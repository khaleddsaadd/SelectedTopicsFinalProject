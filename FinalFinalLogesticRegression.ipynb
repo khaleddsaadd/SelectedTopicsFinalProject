{
  "nbformat": 4,
  "nbformat_minor": 0,
  "metadata": {
    "colab": {
      "name": "FinalFinalLogesticRegression.ipynb",
      "provenance": []
    },
    "kernelspec": {
      "name": "python3",
      "display_name": "Python 3"
    },
    "language_info": {
      "name": "python"
    }
  },
  "cells": [
    {
      "cell_type": "code",
      "execution_count": 185,
      "metadata": {
        "id": "CYA56UfltqEI"
      },
      "outputs": [],
      "source": [
        "import numpy as np\n",
        "import pandas as pd\n",
        "\n",
        "import seaborn as sns\n",
        "import matplotlib.pyplot as plt\n",
        "\n",
        "from sklearn.model_selection import train_test_split\n",
        "from sklearn.metrics import accuracy_score\n",
        "from sklearn.metrics import recall_score\n",
        "from sklearn.metrics import roc_auc_score\n",
        "from sklearn.linear_model import LogisticRegression\n",
        "from sklearn.utils import resample\n",
        "from imblearn.over_sampling import SMOTE\n",
        "from imblearn.under_sampling import NearMiss\n",
        "from sklearn.svm import SVC\n",
        "from sklearn.ensemble import RandomForestClassifier"
      ]
    },
    {
      "cell_type": "code",
      "source": [
        "# load dataset\n",
        "df = pd.read_csv(\"bank-full.csv\")\n",
        "df['y'].replace(['no', 'yes' , 'unkown'],[0, 1,-1], inplace=True)\n",
        "df['housing'].replace(['no', 'yes' , 'unkown'],[0, 1,-1], inplace=True)\n",
        "df['loan'].replace(['no', 'yes' , 'unkown'],[0, 1,-1], inplace=True)\n",
        "df['job'].replace([\"admin.\",\"unknown\",\"unemployed\",\"management\",\"housemaid\",\"entrepreneur\"\n",
        ",\"student\",\"blue-collar\",\"self-employed\",\"retired\",\"technician\",\"services\"],\n",
        "[1,2,3,4,5,6,7,8,9,10,11,12],inplace=True)\n",
        "df['marital'].replace([\"married\",\"divorced\",\"single\"],[1,2,3],inplace=True)\n",
        "df['education'].replace([\"unknown\",\"secondary\",\"primary\",\"tertiary\"],[0,1,2,3],inplace=True)\n",
        "df['default'].replace(['no', 'yes' , 'unkown'],[0, 1,-1], inplace=True)\n",
        "df['contact'].replace([\"unknown\",\"telephone\",\"cellular\"],[0, 1,2], inplace=True)\n",
        "df['poutcome'].replace([\"unknown\",\"other\",\"failure\",\"success\"],[0,1,2,3],inplace=True)\n",
        "df=df.drop(['month'], axis = 1)\n",
        "\n",
        "print(df.head)\n"
      ],
      "metadata": {
        "colab": {
          "base_uri": "https://localhost:8080/"
        },
        "id": "uCWyscYbuFZ7",
        "outputId": "0c77a543-5d0f-4167-cfc7-9bc835d98e20"
      },
      "execution_count": 186,
      "outputs": [
        {
          "output_type": "stream",
          "name": "stdout",
          "text": [
            "<bound method NDFrame.head of        age  job  marital  education  ...  pdays  previous  poutcome  y\n",
            "0       58    4        1          3  ...     -1         0         0  0\n",
            "1       44   11        3          1  ...     -1         0         0  0\n",
            "2       33    6        1          1  ...     -1         0         0  0\n",
            "3       47    8        1          0  ...     -1         0         0  0\n",
            "4       33    2        3          0  ...     -1         0         0  0\n",
            "...    ...  ...      ...        ...  ...    ...       ...       ... ..\n",
            "45206   51   11        1          3  ...     -1         0         0  1\n",
            "45207   71   10        2          2  ...     -1         0         0  1\n",
            "45208   72   10        1          1  ...    184         3         3  1\n",
            "45209   57    8        1          1  ...     -1         0         0  0\n",
            "45210   37    6        1          1  ...    188        11         1  0\n",
            "\n",
            "[45211 rows x 16 columns]>\n"
          ]
        }
      ]
    },
    {
      "cell_type": "code",
      "source": [
        "df['y'].value_counts(normalize=True)\n",
        "\n",
        "df['y'].value_counts().plot(kind='bar')"
      ],
      "metadata": {
        "colab": {
          "base_uri": "https://localhost:8080/",
          "height": 279
        },
        "id": "VdfO54xIuM2H",
        "outputId": "5f325954-d242-4c02-df6c-8f595f78ca8c"
      },
      "execution_count": 187,
      "outputs": [
        {
          "output_type": "execute_result",
          "data": {
            "text/plain": [
              "<matplotlib.axes._subplots.AxesSubplot at 0x7fe19448d0d0>"
            ]
          },
          "metadata": {},
          "execution_count": 187
        },
        {
          "output_type": "display_data",
          "data": {
            "image/png": "[encoded data removed]",
            "text/plain": [
              "<Figure size 432x288 with 1 Axes>"
            ]
          },
          "metadata": {
            "needs_background": "light"
          }
        }
      ]
    },
    {
      "cell_type": "code",
      "source": [
        "\n",
        "x=df.iloc[:,[0,1,2,3,4,5,6,7,11]].values\n",
        "y = df['y']\n",
        "print(x)\n"
      ],
      "metadata": {
        "colab": {
          "base_uri": "https://localhost:8080/"
        },
        "id": "xxRNcDr_uI7p",
        "outputId": "5b9bde37-09c2-4e77-941f-b0e2cc6a7580"
      },
      "execution_count": 188,
      "outputs": [
        {
          "output_type": "stream",
          "name": "stdout",
          "text": [
            "[[58  4  1 ...  1  0  1]\n",
            " [44 11  3 ...  1  0  1]\n",
            " [33  6  1 ...  1  1  1]\n",
            " ...\n",
            " [72 10  1 ...  0  0  5]\n",
            " [57  8  1 ...  0  0  4]\n",
            " [37  6  1 ...  0  0  2]]\n"
          ]
        }
      ]
    },
    {
      "cell_type": "code",
      "source": [
        "from sklearn.model_selection import train_test_split\n",
        "\n",
        "xtrain, xtest, ytrain , ytest = train_test_split(x,y,test_size=0.5,random_state=0)\n",
        "\n",
        "from sklearn.preprocessing import StandardScaler\n",
        "\n",
        "df[\"age\"] = pd.to_numeric(df[\"age\"], downcast=\"float\")\n",
        "df[\"balance\"] = pd.to_numeric(df[\"balance\"], downcast=\"float\")\n",
        "\n",
        "df[\"job\"] = pd.to_numeric(df[\"job\"], downcast=\"float\")\n",
        "df[\"marital\"] = pd.to_numeric(df[\"marital\"], downcast=\"float\")\n",
        "df[\"education\"] = pd.to_numeric(df[\"education\"], downcast=\"float\")\n",
        "df[\"default\"] = pd.to_numeric(df[\"default\"], downcast=\"float\")\n",
        "df[\"housing\"] = pd.to_numeric(df[\"housing\"], downcast=\"float\")\n",
        "\n",
        "df[\"loan\"] = pd.to_numeric(df[\"loan\"], downcast=\"float\")\n",
        "df[\"contact\"] = pd.to_numeric(df[\"contact\"], downcast=\"float\")\n",
        "df[\"duration\"] = pd.to_numeric(df[\"duration\"], downcast=\"float\")\n",
        "\n"
      ],
      "metadata": {
        "id": "CBn1Qd65uUZF"
      },
      "execution_count": 189,
      "outputs": []
    },
    {
      "cell_type": "code",
      "source": [
        "sc_x = StandardScaler()\n",
        "xtrain = sc_x.fit_transform(xtrain) \n",
        "xtest = sc_x.transform(xtest)\n",
        "  \n",
        "print (xtrain[0:, :])\n"
      ],
      "metadata": {
        "colab": {
          "base_uri": "https://localhost:8080/"
        },
        "id": "PcZJQ7W6uVi_",
        "outputId": "4b81cfcd-c7f3-4b7d-eb7c-1be04ccbe31f"
      },
      "execution_count": 190,
      "outputs": [
        {
          "output_type": "stream",
          "name": "stdout",
          "text": [
            "[[-1.12344321 -0.86061067  1.48384308 ...  0.89597731 -0.43953477\n",
            "  -0.56795905]\n",
            " [ 0.00834888  0.27035971 -0.77200956 ...  0.89597731 -0.43953477\n",
            "  -0.24396182]\n",
            " [ 0.10266488  0.27035971 -0.77200956 ...  0.89597731 -0.43953477\n",
            "  -0.24396182]\n",
            " ...\n",
            " [-0.55754717 -0.86061067 -0.77200956 ... -1.11609969 -0.43953477\n",
            "  -0.24396182]\n",
            " [ 2.74351308  0.8358449  -0.77200956 ... -1.11609969 -0.43953477\n",
            "  -0.24396182]\n",
            " [ 0.47992891  0.27035971  1.48384308 ...  0.89597731 -0.43953477\n",
            "   0.40403265]]\n"
          ]
        }
      ]
    },
    {
      "cell_type": "code",
      "source": [
        "from sklearn.linear_model import LogisticRegression\n",
        "classifier = LogisticRegression(random_state = 0)\n",
        "classifier.fit(xtrain, ytrain)\n",
        "y_pred = classifier.predict(xtest)\n"
      ],
      "metadata": {
        "id": "4o86Xe4huXTd"
      },
      "execution_count": 191,
      "outputs": []
    },
    {
      "cell_type": "code",
      "source": [
        "from sklearn.metrics import confusion_matrix\n",
        "print (\"Confusion Matrix : \\n\", confusion_matrix(ytest, y_pred))\n",
        "#True Pos     False Pos\n",
        "#False Neg    True Neg"
      ],
      "metadata": {
        "colab": {
          "base_uri": "https://localhost:8080/"
        },
        "id": "-3S1gaJDucsq",
        "outputId": "f6585392-a784-4aa7-c19d-28e97c33c864"
      },
      "execution_count": 192,
      "outputs": [
        {
          "output_type": "stream",
          "name": "stdout",
          "text": [
            "Confusion Matrix : \n",
            " [[19962     6]\n",
            " [ 2637     1]]\n"
          ]
        }
      ]
    },
    {
      "cell_type": "code",
      "source": [
        "from sklearn.metrics import precision_score, f1_score, classification_report\n",
        "print(\"Report Before Balancing Dataset \")\n",
        "print(\"Recall = \",recall_score(ytest, y_pred))\n",
        "print(\"precision = \",precision_score(ytest, y_pred))\n",
        "print(\"F1 Score = \",f1_score(ytest, y_pred))\n",
        "print(\"Accuracy = \",accuracy_score(ytest , y_pred))"
      ],
      "metadata": {
        "colab": {
          "base_uri": "https://localhost:8080/"
        },
        "id": "aIdJlo2Uuy4M",
        "outputId": "6697065e-2c20-4720-811c-5e2e4a364ad7"
      },
      "execution_count": 193,
      "outputs": [
        {
          "output_type": "stream",
          "name": "stdout",
          "text": [
            "Report Before Balancing Dataset \n",
            "Recall =  0.0003790750568612585\n",
            "precision =  0.14285714285714285\n",
            "F1 Score =  0.0007561436672967863\n",
            "Accuracy =  0.8830841369547907\n"
          ]
        }
      ]
    },
    {
      "cell_type": "code",
      "source": [
        "df_majority = df[df.y==0]\n",
        "df_minority = df[df.y==1]\n",
        " \n",
        "# Upsample minority class\n",
        "df_minority_upsampled = resample(df_minority, \n",
        "                                 replace=True,      # sample with replacement\n",
        "                                 n_samples=36548)   # to match majority class\n",
        "                              \n",
        " \n",
        "#Combine majority class with upsampled minority class\n",
        "df_upsampled = pd.concat([df_majority, df_minority_upsampled])\n",
        "print(df_upsampled['y'].value_counts())\n",
        "df_upsampled['y'].value_counts().plot(kind='bar')"
      ],
      "metadata": {
        "colab": {
          "base_uri": "https://localhost:8080/",
          "height": 331
        },
        "id": "vlKGD9NUw7xU",
        "outputId": "f87e9757-e08c-4fb9-be35-609d71cae1bf"
      },
      "execution_count": 194,
      "outputs": [
        {
          "output_type": "stream",
          "name": "stdout",
          "text": [
            "0    39922\n",
            "1    36548\n",
            "Name: y, dtype: int64\n"
          ]
        },
        {
          "output_type": "execute_result",
          "data": {
            "text/plain": [
              "<matplotlib.axes._subplots.AxesSubplot at 0x7fe1994e7050>"
            ]
          },
          "metadata": {},
          "execution_count": 194
        },
        {
          "output_type": "display_data",
          "data": {
            "image/png": "[encoded data removed]",
            "text/plain": [
              "<Figure size 432x288 with 1 Axes>"
            ]
          },
          "metadata": {
            "needs_background": "light"
          }
        }
      ]
    },
    {
      "cell_type": "code",
      "source": [
        "x_balanced = df_upsampled.drop('y', axis=1)\n",
        "y_balanced = df_upsampled['y']\n"
      ],
      "metadata": {
        "id": "71KJUIvgxVQ0"
      },
      "execution_count": 195,
      "outputs": []
    },
    {
      "cell_type": "code",
      "source": [
        "xtrain2 , xtest2, ytrain2 , ytest2 = train_test_split(x_balanced,y_balanced,test_size=0.5,random_state=0)\n",
        "classifier2 = LogisticRegression(random_state = 0)\n",
        "classifier2.fit(xtrain2, ytrain2)\n",
        "y_pred2 = classifier2.predict(xtest2)"
      ],
      "metadata": {
        "colab": {
          "base_uri": "https://localhost:8080/"
        },
        "id": "HdPrCyS-xYcs",
        "outputId": "4dbeeb45-af04-4b62-9085-6ff4c6ec261f"
      },
      "execution_count": 196,
      "outputs": [
        {
          "output_type": "stream",
          "name": "stderr",
          "text": [
            "/usr/local/lib/python3.7/dist-packages/sklearn/linear_model/_logistic.py:818: ConvergenceWarning: lbfgs failed to converge (status=1):\n",
            "STOP: TOTAL NO. of ITERATIONS REACHED LIMIT.\n",
            "\n",
            "Increase the number of iterations (max_iter) or scale the data as shown in:\n",
            "    https://scikit-learn.org/stable/modules/preprocessing.html\n",
            "Please also refer to the documentation for alternative solver options:\n",
            "    https://scikit-learn.org/stable/modules/linear_model.html#logistic-regression\n",
            "  extra_warning_msg=_LOGISTIC_SOLVER_CONVERGENCE_MSG,\n"
          ]
        }
      ]
    },
    {
      "cell_type": "code",
      "source": [
        "from sklearn.metrics import confusion_matrix\n",
        "print (\"Confusion Matrix : \\n\", confusion_matrix(ytest2, y_pred2))\n",
        "#True Pos     False Pos\n",
        "#False Neg    True Neg"
      ],
      "metadata": {
        "colab": {
          "base_uri": "https://localhost:8080/"
        },
        "id": "ITljmoL4yd9P",
        "outputId": "48e98290-b2fd-4966-cd5a-6b862a883a24"
      },
      "execution_count": 197,
      "outputs": [
        {
          "output_type": "stream",
          "name": "stdout",
          "text": [
            "Confusion Matrix : \n",
            " [[15899  3959]\n",
            " [ 4709 13668]]\n"
          ]
        }
      ]
    },
    {
      "cell_type": "code",
      "source": [
        "print(\"Report Before Balancing Dataset \")\n",
        "print(\"Recall = \",recall_score(ytest2, y_pred2))\n",
        "print(\"precision = \",precision_score(ytest2, y_pred2))\n",
        "print(\"F1 Score = \",f1_score(ytest2, y_pred2))\n",
        "print(\"Accuracy = \",accuracy_score(ytest2 , y_pred2))"
      ],
      "metadata": {
        "colab": {
          "base_uri": "https://localhost:8080/"
        },
        "id": "_eD17xE5ySCL",
        "outputId": "4f4c56f7-db7b-46fb-bb06-bcb4603f1c9d"
      },
      "execution_count": 198,
      "outputs": [
        {
          "output_type": "stream",
          "name": "stdout",
          "text": [
            "Report Before Balancing Dataset \n",
            "Recall =  0.7437557816836263\n",
            "precision =  0.775401372893856\n",
            "F1 Score =  0.7592489723364071\n",
            "Accuracy =  0.773296717667059\n"
          ]
        }
      ]
    }
  ]
}