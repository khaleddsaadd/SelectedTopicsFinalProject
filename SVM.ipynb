{
  "nbformat": 4,
  "nbformat_minor": 0,
  "metadata": {
    "colab": {
      "name": "Untitled2.ipynb",
      "provenance": []
    },
    "kernelspec": {
      "name": "python3",
      "display_name": "Python 3"
    },
    "language_info": {
      "name": "python"
    }
  },
  "cells": [
    {
      "cell_type": "code",
      "execution_count": 1,
      "metadata": {
        "id": "vibGsnoWmJ-O"
      },
      "outputs": [],
      "source": [
        "from enum import auto\n",
        "import pandas as pn\n",
        "import numpy as ny\n",
        "import matplotlib.pyplot as plot \n",
        "from sklearn.model_selection import train_test_split\n",
        "from sklearn import svm\n",
        "from sklearn.metrics import classification_report, confusion_matrix\n",
        "from sklearn.preprocessing import LabelEncoder\n",
        "from sklearn.preprocessing import StandardScaler\n",
        "from sklearn.utils import resample"
      ]
    },
    {
      "cell_type": "code",
      "source": [
        "#Importing our dataset (bank-full dataset)\n",
        "bank_dataset = pn.read_csv(\"bank-full.csv\")\n",
        "\n",
        "#To display how many rows and the columns of our dataset (bank-full dataset)\n",
        "# print(bank_dataset.shape)\n",
        "\n",
        "#To display our dataset as (pandas.core.frame.DataFrame)\n",
        "print(bank_dataset.head())"
      ],
      "metadata": {
        "colab": {
          "base_uri": "https://localhost:8080/"
        },
        "id": "9PEhmqgvmS8R",
        "outputId": "09ab8e1f-4e61-4ae7-ab6d-9a3600202be0"
      },
      "execution_count": 2,
      "outputs": [
        {
          "output_type": "stream",
          "name": "stdout",
          "text": [
            "   age           job  marital  education  ... pdays  previous poutcome   y\n",
            "0   58    management  married   tertiary  ...    -1         0  unknown  no\n",
            "1   44    technician   single  secondary  ...    -1         0  unknown  no\n",
            "2   33  entrepreneur  married  secondary  ...    -1         0  unknown  no\n",
            "3   47   blue-collar  married    unknown  ...    -1         0  unknown  no\n",
            "4   33       unknown   single    unknown  ...    -1         0  unknown  no\n",
            "\n",
            "[5 rows x 17 columns]\n"
          ]
        }
      ]
    },
    {
      "cell_type": "code",
      "source": [
        "labEn = LabelEncoder()\n",
        "bank_dataset['job'] = labEn.fit_transform(bank_dataset['job'])\n",
        "bank_dataset['marital']= labEn.fit_transform(bank_dataset['marital'])\n",
        "bank_dataset['education']= labEn.fit_transform(bank_dataset['education'])\n",
        "bank_dataset['default']= labEn.fit_transform(bank_dataset['default'])\n",
        "bank_dataset['housing']= labEn.fit_transform(bank_dataset['housing'])\n",
        "bank_dataset['loan']= labEn.fit_transform(bank_dataset['loan'])\n",
        "bank_dataset['contact']= labEn.fit_transform(bank_dataset['contact'])\n",
        "bank_dataset['month']= labEn.fit_transform(bank_dataset['month'])\n",
        "bank_dataset['y']= labEn.fit_transform(bank_dataset['y'])\n",
        "bank_dataset['poutcome']= labEn.fit_transform(bank_dataset['poutcome'])\n"
      ],
      "metadata": {
        "id": "WO04ltDWmdQV"
      },
      "execution_count": 3,
      "outputs": []
    },
    {
      "cell_type": "code",
      "source": [
        "bank_dataset_majority = bank_dataset[bank_dataset.y==0]\n",
        "bank_dataset_minority = bank_dataset[bank_dataset.y==1]\n",
        " \n",
        "# Upsample minority class\n",
        "bank_dataset_minority_upsampled = resample(bank_dataset_minority, \n",
        "                                 replace=True,      # sample with replacement\n",
        "                                 n_samples=36548)   # to match majority class\n",
        "                              \n",
        " \n",
        "#Combine majority class with upsampled minority class\n",
        "bank_dataset_upsampled = pn.concat([bank_dataset_majority, bank_dataset_minority_upsampled])\n",
        "print(bank_dataset_upsampled['y'].value_counts())\n",
        "bank_dataset_upsampled['y'].value_counts().plot(kind='bar')\n"
      ],
      "metadata": {
        "colab": {
          "base_uri": "https://localhost:8080/",
          "height": 331
        },
        "id": "k0adcT9YmiWf",
        "outputId": "7be70c8a-d0ce-4274-b976-ea21d2a564cb"
      },
      "execution_count": 4,
      "outputs": [
        {
          "output_type": "stream",
          "name": "stdout",
          "text": [
            "0    39922\n",
            "1    36548\n",
            "Name: y, dtype: int64\n"
          ]
        },
        {
          "output_type": "execute_result",
          "data": {
            "text/plain": [
              "<matplotlib.axes._subplots.AxesSubplot at 0x7fb1f437c590>"
            ]
          },
          "metadata": {},
          "execution_count": 4
        },
        {
          "output_type": "display_data",
          "data": {
            "image/png": "[encoded data removed]",
            "text/plain": [
              "<Figure size 432x288 with 1 Axes>"
            ]
          },
          "metadata": {
            "needs_background": "light"
          }
        }
      ]
    },
    {
      "cell_type": "code",
      "source": [
        "#These 2 lines are to divide dataset into classes and labels\n",
        "cls = bank_dataset_upsampled.drop('y', axis=1) #drop the label and save classes in cls\n",
        "lbl = bank_dataset_upsampled['y'] #put labels only in y\n",
        "\n",
        "# DataFrames = ny.arange(0, len(cls))\n",
        "\n",
        "# plty=ny.array(cls)\n",
        "\n",
        "# plot.title('Dataset')\n",
        "# plot.plot(DataFrames, plty)\n",
        "# plot.xlabel('DataFrames')\n",
        "# plot.ylabel('Classes')\n",
        "# plot.show()\n",
        "\n",
        "#divide our bank dataset into training set and testing set"
      ],
      "metadata": {
        "id": "_EtoZAkFmoH7"
      },
      "execution_count": 6,
      "outputs": []
    },
    {
      "cell_type": "code",
      "source": [
        "cls_train, cls_test, lbl_train, lbl_test = train_test_split(cls, lbl, test_size = 0.30)\n",
        "\n",
        "sc = StandardScaler()\n",
        "cls_train = sc.fit_transform(cls_train)\n",
        "cls_test = sc.transform(cls_test)\n",
        "\n",
        "#Train dataset\n",
        "sclassifier = svm.SVC(kernel='rbf') #Gaussian kernel\n",
        "sclassifier.fit(cls_train, lbl_train) #We use fit method of SVC to train the algorithm on our dataset"
      ],
      "metadata": {
        "colab": {
          "base_uri": "https://localhost:8080/"
        },
        "id": "lYwWfdHImysm",
        "outputId": "a2529ec6-6159-4045-a762-f156598d31a3"
      },
      "execution_count": 7,
      "outputs": [
        {
          "output_type": "execute_result",
          "data": {
            "text/plain": [
              "SVC()"
            ]
          },
          "metadata": {},
          "execution_count": 7
        }
      ]
    },
    {
      "cell_type": "code",
      "source": [
        "#Prediction\n",
        "lbl_pred = sclassifier.predict(cls_test) #predict is a method of the SVC class that make prediction\n",
        "\n",
        "plty=ny.array(cls_test)\n",
        "pltx=ny.array(lbl_test)\n",
        "\n",
        "# print(len(pltx))\n",
        "# print(len(plty))\n"
      ],
      "metadata": {
        "id": "ceX9cO4Hm7r0"
      },
      "execution_count": 8,
      "outputs": []
    },
    {
      "cell_type": "code",
      "source": [
        "plot.title('Dataset')\n",
        "plot.plot(pltx, plty , 'b.',label=\"Test Data\")\n",
        "plot.plot(lbl_pred, plty,'ro', label=\"Pred Data\")\n",
        "plot.xlabel('Labels')\n",
        "plot.ylabel('Data Frames')\n",
        "plot.show()"
      ],
      "metadata": {
        "colab": {
          "base_uri": "https://localhost:8080/",
          "height": 295
        },
        "id": "JB33X0S2nUrz",
        "outputId": "a31601ac-edd5-4955-a7fe-abbc1d6a4ddc"
      },
      "execution_count": 9,
      "outputs": [
        {
          "output_type": "display_data",
          "data": {
            "image/png": "[encoded data removed]",
            "text/plain": [
              "<Figure size 432x288 with 1 Axes>"
            ]
          },
          "metadata": {
            "needs_background": "light"
          }
        }
      ]
    },
    {
      "cell_type": "code",
      "source": [
        "#Display the confusion matrix\n",
        "cm = confusion_matrix(lbl_test,lbl_pred)\n",
        "print(confusion_matrix(lbl_test,lbl_pred))\n",
        "print(classification_report(lbl_test,lbl_pred))\n",
        "\n",
        "TP = cm[0][0]  #TruePositive\n",
        "FP = cm[0][1]  #FalsePositive\n",
        "FN = cm[1][0]  #FalseNegative\n",
        "TN = cm[1][1]  #TrueNegative\n",
        "\n",
        "Acc = (TP + TN) / (TP + FP + TN +FN)\n",
        "Pre = TP / (TP + FP)\n",
        "Recall = TP / (TP + FN)\n",
        "F1_Score = 2 *( (Pre * Recall) /(Pre + Recall) )\n",
        "print(\"Precision:\", Pre)\n",
        "print(\"Recall:\", Recall)\n",
        "print(\"F1:\", F1_Score)\n",
        "print(\"Accuracy:\",Acc)\n"
      ],
      "metadata": {
        "colab": {
          "base_uri": "https://localhost:8080/"
        },
        "id": "EXKGg6N8naAz",
        "outputId": "7fe6207a-e327-48c9-d93c-87454443f807"
      },
      "execution_count": 10,
      "outputs": [
        {
          "output_type": "stream",
          "name": "stdout",
          "text": [
            "[[9937 2010]\n",
            " [1409 9585]]\n",
            "              precision    recall  f1-score   support\n",
            "\n",
            "           0       0.88      0.83      0.85     11947\n",
            "           1       0.83      0.87      0.85     10994\n",
            "\n",
            "    accuracy                           0.85     22941\n",
            "   macro avg       0.85      0.85      0.85     22941\n",
            "weighted avg       0.85      0.85      0.85     22941\n",
            "\n",
            "Precision: 0.831756926425044\n",
            "Recall: 0.8758152652917328\n",
            "F1: 0.8532177048898811\n",
            "Accuracy: 0.8509655202475916\n"
          ]
        }
      ]
    }
  ]
}