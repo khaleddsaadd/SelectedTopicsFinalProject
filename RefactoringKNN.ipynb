{
  "nbformat": 4,
  "nbformat_minor": 0,
  "metadata": {
    "colab": {
      "name": "RefactoringKNN.ipynb",
      "provenance": [],
      "collapsed_sections": []
    },
    "kernelspec": {
      "name": "python3",
      "display_name": "Python 3"
    },
    "language_info": {
      "name": "python"
    }
  },
  "cells": [
    {
      "cell_type": "code",
      "execution_count": 12,
      "metadata": {
        "id": "fv1E0Qcrd6lJ"
      },
      "outputs": [],
      "source": [
        "import pandas as pd\n",
        "from sklearn.model_selection import train_test_split\n",
        "from sklearn.preprocessing import StandardScaler\n",
        "from sklearn.neighbors import KNeighborsClassifier\n",
        "from sklearn.metrics import confusion_matrix,accuracy_score,precision_score, f1_score, recall_score\n",
        "import matplotlib.pyplot as plt\n",
        "from sklearn.utils import resample\n",
        "import numpy as np\n"
      ]
    },
    {
      "cell_type": "code",
      "source": [
        "# load dataset\n",
        "df = pd.read_csv(\"bank-full.csv\")\n",
        "\n",
        "\n",
        "#Converting classes into Numeric Values\n",
        "df['housing'].replace(['no', 'yes' , 'unkown'],[0, 1,-1], inplace=True)\n",
        "df['loan'].replace(['no', 'yes' , 'unkown'],[0, 1,-1], inplace=True)\n",
        "df['job'].replace([\"admin.\",\"unknown\",\"unemployed\",\"management\",\"housemaid\",\"entrepreneur\"\n",
        ",\"student\",\"blue-collar\",\"self-employed\",\"retired\",\"technician\",\"services\"],\n",
        "[1,2,3,4,5,6,7,8,9,10,11,12],inplace=True)\n",
        "df['marital'].replace([\"married\",\"divorced\",\"single\"],[1,2,3],inplace=True)\n",
        "df['education'].replace([\"unknown\",\"secondary\",\"primary\",\"tertiary\"],[0,1,2,3],inplace=True)\n",
        "df['default'].replace(['no', 'yes' , 'unkown'],[0, 1,-1], inplace=True)\n",
        "df['contact'].replace([\"unknown\",\"telephone\",\"cellular\"],[0, 1,2], inplace=True)\n",
        "df['poutcome'].replace([\"unknown\",\"other\",\"failure\",\"success\"],[0,1,2,3],inplace=True)\n",
        "df['y'].replace(['no', 'yes' , 'unkown'],[0, 1,-1], inplace=True)\n",
        "df=df.drop(['month'], axis = 1)\n",
        "\n",
        "\n",
        "\n",
        "print(df.head)"
      ],
      "metadata": {
        "id": "RDugfXoReH4k",
        "colab": {
          "base_uri": "https://localhost:8080/"
        },
        "outputId": "91c802fd-ddb7-4fb1-b1a9-03b546a20b01"
      },
      "execution_count": 13,
      "outputs": [
        {
          "output_type": "stream",
          "name": "stdout",
          "text": [
            "<bound method NDFrame.head of        age  job  marital  education  ...  pdays  previous  poutcome  y\n",
            "0       58    4        1          3  ...     -1         0         0  0\n",
            "1       44   11        3          1  ...     -1         0         0  0\n",
            "2       33    6        1          1  ...     -1         0         0  0\n",
            "3       47    8        1          0  ...     -1         0         0  0\n",
            "4       33    2        3          0  ...     -1         0         0  0\n",
            "...    ...  ...      ...        ...  ...    ...       ...       ... ..\n",
            "45206   51   11        1          3  ...     -1         0         0  1\n",
            "45207   71   10        2          2  ...     -1         0         0  1\n",
            "45208   72   10        1          1  ...    184         3         3  1\n",
            "45209   57    8        1          1  ...     -1         0         0  0\n",
            "45210   37    6        1          1  ...    188        11         1  0\n",
            "\n",
            "[45211 rows x 16 columns]>\n"
          ]
        }
      ]
    },
    {
      "cell_type": "code",
      "source": [
        "df['y'].value_counts(normalize=True)\n",
        "\n",
        "df['y'].value_counts().plot(kind='bar')\n"
      ],
      "metadata": {
        "colab": {
          "base_uri": "https://localhost:8080/",
          "height": 279
        },
        "id": "YipRz2w_9ECu",
        "outputId": "82f39a35-76a5-4697-c983-c65635fbea97"
      },
      "execution_count": 14,
      "outputs": [
        {
          "output_type": "execute_result",
          "data": {
            "text/plain": [
              "<matplotlib.axes._subplots.AxesSubplot at 0x7fa9d071f790>"
            ]
          },
          "metadata": {},
          "execution_count": 14
        },
        {
          "output_type": "display_data",
          "data": {
            "image/png": "[encoded data removed]",
            "text/plain": [
              "<Figure size 432x288 with 1 Axes>"
            ]
          },
          "metadata": {
            "needs_background": "light"
          }
        }
      ]
    },
    {
      "cell_type": "code",
      "source": [
        "#Balance dataset\n",
        "\n",
        "df_majority = df[df.y==0]\n",
        "df_minority = df[df.y==1]\n",
        " \n",
        "# Upsample minority class\n",
        "df_minority_upsampled = resample(df_minority, \n",
        "                                 replace=True,      # sample with replacement\n",
        "                                 n_samples=36548)   # to match majority class\n",
        "                              \n",
        " \n",
        "#Combine majority class with upsampled minority class\n",
        "df_upsampled = pd.concat([df_majority, df_minority_upsampled])\n",
        "print(df_upsampled['y'].value_counts())\n",
        "df_upsampled['y'].value_counts().plot(kind='bar')"
      ],
      "metadata": {
        "colab": {
          "base_uri": "https://localhost:8080/",
          "height": 331
        },
        "id": "3UR8DLzy9btV",
        "outputId": "0d0cdfc7-b3c8-409d-8a5b-ee0bc537fbc8"
      },
      "execution_count": 15,
      "outputs": [
        {
          "output_type": "stream",
          "name": "stdout",
          "text": [
            "0    39922\n",
            "1    36548\n",
            "Name: y, dtype: int64\n"
          ]
        },
        {
          "output_type": "execute_result",
          "data": {
            "text/plain": [
              "<matplotlib.axes._subplots.AxesSubplot at 0x7fa9d0679fd0>"
            ]
          },
          "metadata": {},
          "execution_count": 15
        },
        {
          "output_type": "display_data",
          "data": {
            "image/png": "[encoded data removed]",
            "text/plain": [
              "<Figure size 432x288 with 1 Axes>"
            ]
          },
          "metadata": {
            "needs_background": "light"
          }
        }
      ]
    },
    {
      "cell_type": "code",
      "source": [
        "x = df_upsampled.drop('y', axis=1)\n",
        "y= df_upsampled['y']\n",
        "\n",
        "print(x)\n",
        "print(y)"
      ],
      "metadata": {
        "id": "vW1qMTJneXTs",
        "colab": {
          "base_uri": "https://localhost:8080/"
        },
        "outputId": "3b027ec5-2ae3-43e4-aba1-e8bc4e43b184"
      },
      "execution_count": 16,
      "outputs": [
        {
          "output_type": "stream",
          "name": "stdout",
          "text": [
            "       age  job  marital  education  ...  campaign  pdays  previous  poutcome\n",
            "0       58    4        1          3  ...         1     -1         0         0\n",
            "1       44   11        3          1  ...         1     -1         0         0\n",
            "2       33    6        1          1  ...         1     -1         0         0\n",
            "3       47    8        1          0  ...         1     -1         0         0\n",
            "4       33    2        3          0  ...         1     -1         0         0\n",
            "...    ...  ...      ...        ...  ...       ...    ...       ...       ...\n",
            "31392   46    4        2          3  ...         2     -1         0         0\n",
            "41739   29    1        3          1  ...         1     -1         0         0\n",
            "40779   30    4        3          3  ...         3    102         2         3\n",
            "37788   32    8        3          1  ...         1     -1         0         0\n",
            "31149   71   10        1          3  ...         1     -1         0         0\n",
            "\n",
            "[76470 rows x 15 columns]\n",
            "0        0\n",
            "1        0\n",
            "2        0\n",
            "3        0\n",
            "4        0\n",
            "        ..\n",
            "31392    1\n",
            "41739    1\n",
            "40779    1\n",
            "37788    1\n",
            "31149    1\n",
            "Name: y, Length: 76470, dtype: int64\n"
          ]
        }
      ]
    },
    {
      "cell_type": "code",
      "source": [
        "X_train, X_test, y_train, y_test = train_test_split(x, y, test_size = 0.20, random_state = 0)"
      ],
      "metadata": {
        "id": "CEtGTeiBeZs3"
      },
      "execution_count": 17,
      "outputs": []
    },
    {
      "cell_type": "code",
      "source": [
        "#scaling data\n",
        "sc = StandardScaler()\n",
        "X_train = sc.fit_transform(X_train)\n",
        "X_test = sc.transform(X_test)\n",
        "print(X_test)"
      ],
      "metadata": {
        "id": "QtXOaIdQeiw2",
        "colab": {
          "base_uri": "https://localhost:8080/"
        },
        "outputId": "4eeee7e0-2328-418e-8e0c-839516a93412"
      },
      "execution_count": 18,
      "outputs": [
        {
          "output_type": "stream",
          "name": "stdout",
          "text": [
            "[[-1.37636889 -0.81855365 -0.81921252 ... -0.4846593  -0.33541245\n",
            "  -0.54591612]\n",
            " [-1.12233544  0.30436776  1.39606155 ... -0.4846593  -0.33541245\n",
            "  -0.54591612]\n",
            " [ 0.06315402 -1.66074471 -0.81921252 ... -0.4846593  -0.33541245\n",
            "  -0.54591612]\n",
            " ...\n",
            " [-1.12233544  0.58509811  1.39606155 ...  0.4244235   0.07646238\n",
            "   2.39438892]\n",
            " [ 1.24864347 -0.81855365  0.28842451 ... -0.4846593  -0.33541245\n",
            "  -0.54591612]\n",
            " [-0.9529798  -0.25709295 -0.81921252 ... -0.4846593  -0.33541245\n",
            "  -0.54591612]]\n"
          ]
        }
      ]
    },
    {
      "cell_type": "code",
      "source": [
        "knn = KNeighborsClassifier(n_neighbors=7)\n",
        "knn.fit(X_train, y_train)\n",
        "\n",
        "y_pred = knn.predict(X_test)\n",
        "print(y_pred)"
      ],
      "metadata": {
        "colab": {
          "base_uri": "https://localhost:8080/"
        },
        "id": "iuAYh-iSeugi",
        "outputId": "4911e0fa-8e09-482c-ed14-4786d2d51183"
      },
      "execution_count": 19,
      "outputs": [
        {
          "output_type": "stream",
          "name": "stdout",
          "text": [
            "[1 1 0 ... 1 1 0]\n"
          ]
        }
      ]
    },
    {
      "cell_type": "code",
      "source": [
        "    #  ConfusionMatrix{ TruePositive     FalsePositive\n",
        "    #                   FalseNegative    TrueNegative    }\n",
        "\n",
        "Confusion_Matrix = confusion_matrix(y_test, y_pred)\n",
        "TP = Confusion_Matrix[0][0]  #TruePositive\n",
        "FP = Confusion_Matrix[0][1]  #FalsePositive\n",
        "FN = Confusion_Matrix[1][0]  #FalseNegative\n",
        "TN = Confusion_Matrix[1][1]  #TrueNegative\n",
        "\n",
        "\n",
        "print(pd.crosstab(y_test, y_pred, rownames = ['Actual'], colnames =['Predicted'], margins = True),\"\\n\")\n",
        "\n",
        "print(\"ConfusionMatrix \\n\",Confusion_Matrix,\"\\n\")\n",
        "\n",
        "\n",
        "Accuracy = (TP + TN) / (TP + FP + TN +FN)\n",
        "print(\"Calculated Accuracy\", Accuracy,\"\\n\")\n",
        "\n",
        "\n"
      ],
      "metadata": {
        "colab": {
          "base_uri": "https://localhost:8080/"
        },
        "id": "-69ihZIseui0",
        "outputId": "e1105965-ba33-48fc-86a3-f02a8127e34f"
      },
      "execution_count": 20,
      "outputs": [
        {
          "output_type": "stream",
          "name": "stdout",
          "text": [
            "Predicted     0     1    All\n",
            "Actual                      \n",
            "0          6386  1518   7904\n",
            "1           331  7059   7390\n",
            "All        6717  8577  15294 \n",
            "\n",
            "ConfusionMatrix \n",
            " [[6386 1518]\n",
            " [ 331 7059]] \n",
            "\n",
            "Calculated Accuracy 0.8791029161762782 \n",
            "\n"
          ]
        }
      ]
    },
    {
      "cell_type": "code",
      "source": [
        "print(\"Precision = \",precision_score(y_test, y_pred))\n",
        "print(\"Recall = \",recall_score(y_test, y_pred))\n",
        "print(\"F1 Score = \",f1_score(y_test, y_pred))\n",
        "print(\"Ready made Accuracy Function = \",accuracy_score(y_test, y_pred))\n"
      ],
      "metadata": {
        "colab": {
          "base_uri": "https://localhost:8080/"
        },
        "id": "O5SbLgXr-jbt",
        "outputId": "e5bcab8e-d3b4-4838-e2df-0465db214a72"
      },
      "execution_count": 21,
      "outputs": [
        {
          "output_type": "stream",
          "name": "stdout",
          "text": [
            "Precision =  0.8230150402238545\n",
            "Recall =  0.9552097428958052\n",
            "F1 Score =  0.884198659735705\n",
            "Ready made Accuracy Function =  0.8791029161762782\n"
          ]
        }
      ]
    },
    {
      "cell_type": "code",
      "source": [
        "valueRangeof_Neighbors = np.arange(1, 9)\n",
        "Train_Accuracy = np.empty(len(valueRangeof_Neighbors))\n",
        "Test_Accuracy = np.empty(len(valueRangeof_Neighbors))\n",
        "\n",
        "for i, k in enumerate(valueRangeof_Neighbors):\n",
        "    knn = KNeighborsClassifier(n_neighbors=k) # We instantiate the classifier\n",
        "    knn.fit(X_train,y_train) # Fit the classifier to the training data\n",
        "    Train_Accuracy[i] = knn.score(X_train, y_train) # Compute accuracy on the training set    \n",
        "    Test_Accuracy[i] = knn.score(X_test, y_test) # Compute accuracy on the testing set\n",
        "\n",
        "# Visualization of k values vs accuracy\n",
        "\n",
        "plt.title('Varying Number of Neighbors')\n",
        "plt.plot(valueRangeof_Neighbors, Test_Accuracy, label = 'Test_Accuracy')\n",
        "plt.plot(valueRangeof_Neighbors, Train_Accuracy, label = 'Train_Accuracy')\n",
        "plt.legend()\n",
        "plt.xlabel('Number of Neighbors')\n",
        "plt.ylabel('Accuracy')\n",
        "plt.show()"
      ],
      "metadata": {
        "colab": {
          "base_uri": "https://localhost:8080/",
          "height": 295
        },
        "id": "Aj3zgmxsgl0z",
        "outputId": "8ee63f95-fdab-4c9c-b178-77b326cbe9d5"
      },
      "execution_count": 22,
      "outputs": [
        {
          "output_type": "display_data",
          "data": {
            "image/png": "[encoded data removed]",
            "text/plain": [
              "<Figure size 432x288 with 1 Axes>"
            ]
          },
          "metadata": {
            "needs_background": "light"
          }
        }
      ]
    }
  ]
}